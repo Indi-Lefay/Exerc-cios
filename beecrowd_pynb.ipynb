{
  "nbformat": 4,
  "nbformat_minor": 0,
  "metadata": {
    "colab": {
      "provenance": [],
      "authorship_tag": "ABX9TyN+84CMOIqjQSoH4U/PW+sx",
      "include_colab_link": true
    },
    "kernelspec": {
      "name": "python3",
      "display_name": "Python 3"
    },
    "language_info": {
      "name": "python"
    }
  },
  "cells": [
    {
      "cell_type": "markdown",
      "metadata": {
        "id": "view-in-github",
        "colab_type": "text"
      },
      "source": [
        "<a href=\"https://colab.research.google.com/github/Indi-Lefay/Exerc-cios/blob/main/beecrowd_pynb.ipynb\" target=\"_parent\"><img src=\"https://colab.research.google.com/assets/colab-badge.svg\" alt=\"Open In Colab\"/></a>"
      ]
    },
    {
      "cell_type": "code",
      "execution_count": null,
      "metadata": {
        "colab": {
          "base_uri": "https://localhost:8080/"
        },
        "id": "_wlkPejZlHci",
        "outputId": "0e99529a-5297-4b8b-899c-e6509c9eb813"
      },
      "outputs": [
        {
          "output_type": "stream",
          "name": "stdout",
          "text": [
            "Helllo World!\n"
          ]
        }
      ],
      "source": [
        "print( \"Helllo World!\")"
      ]
    },
    {
      "cell_type": "code",
      "source": [
        "A = int(input())\n",
        "B = int(input())\n",
        "SOMA = A + B\n",
        "print(\"SOMA =\",SOMA)"
      ],
      "metadata": {
        "colab": {
          "base_uri": "https://localhost:8080/"
        },
        "id": "95QX24OrIhoS",
        "outputId": "7091c9bc-ac01-46d8-e372-c5894b2084b7"
      },
      "execution_count": null,
      "outputs": [
        {
          "output_type": "stream",
          "name": "stdout",
          "text": [
            "2\n",
            "3\n",
            "SOMA = 5\n"
          ]
        }
      ]
    },
    {
      "cell_type": "code",
      "source": [
        "A = float(input())\n",
        "B = float(input())\n",
        "peso_A = 3.5\n",
        "peso_B = 7.5\n",
        "SOMA = (A * peso_A) + (B * peso_B)\n",
        "MEDIA = SOMA / (peso_A + peso_B)\n",
        "print(\"MEDIA = {:.5f}\".format(MEDIA))\n"
      ],
      "metadata": {
        "colab": {
          "base_uri": "https://localhost:8080/"
        },
        "id": "aZKPCbq5LkIG",
        "outputId": "63e64c8a-c6fd-449b-e2bf-0fbd0159e06e"
      },
      "execution_count": null,
      "outputs": [
        {
          "output_type": "stream",
          "name": "stdout",
          "text": [
            "5\n",
            "7.1\n",
            "MEDIA = 6.43182\n"
          ]
        }
      ]
    }
  ]
}
